{
  "nbformat": 4,
  "nbformat_minor": 0,
  "metadata": {
    "colab": {
      "name": "DL_Model_Discovery_NLP_Task_JSD_Adaptivity.ipynb",
      "provenance": [],
      "collapsed_sections": [],
      "toc_visible": true,
      "machine_shape": "hm"
    },
    "kernelspec": {
      "display_name": "Python 3",
      "language": "python",
      "name": "python3"
    },
    "language_info": {
      "codemirror_mode": {
        "name": "ipython",
        "version": 3
      },
      "file_extension": ".py",
      "mimetype": "text/x-python",
      "name": "python",
      "nbconvert_exporter": "python",
      "pygments_lexer": "ipython3",
      "version": "3.8.5"
    },
    "widgets": {
      "application/vnd.jupyter.widget-state+json": {
        "a5a6439197b047c5a8f99f407b58197b": {
          "model_module": "@jupyter-widgets/controls",
          "model_name": "HBoxModel",
          "state": {
            "_view_name": "HBoxView",
            "_dom_classes": [],
            "_model_name": "HBoxModel",
            "_view_module": "@jupyter-widgets/controls",
            "_model_module_version": "1.5.0",
            "_view_count": null,
            "_view_module_version": "1.5.0",
            "box_style": "",
            "layout": "IPY_MODEL_e1125116e1914d26a6979e412fb3211e",
            "_model_module": "@jupyter-widgets/controls",
            "children": [
              "IPY_MODEL_1dc52bd35c2b41a7bb373378a6e3cdbf",
              "IPY_MODEL_00932fd791cf444c973ba01d87642120"
            ]
          }
        },
        "e1125116e1914d26a6979e412fb3211e": {
          "model_module": "@jupyter-widgets/base",
          "model_name": "LayoutModel",
          "state": {
            "_view_name": "LayoutView",
            "grid_template_rows": null,
            "right": null,
            "justify_content": null,
            "_view_module": "@jupyter-widgets/base",
            "overflow": null,
            "_model_module_version": "1.2.0",
            "_view_count": null,
            "flex_flow": null,
            "width": null,
            "min_width": null,
            "border": null,
            "align_items": null,
            "bottom": null,
            "_model_module": "@jupyter-widgets/base",
            "top": null,
            "grid_column": null,
            "overflow_y": null,
            "overflow_x": null,
            "grid_auto_flow": null,
            "grid_area": null,
            "grid_template_columns": null,
            "flex": null,
            "_model_name": "LayoutModel",
            "justify_items": null,
            "grid_row": null,
            "max_height": null,
            "align_content": null,
            "visibility": null,
            "align_self": null,
            "height": null,
            "min_height": null,
            "padding": null,
            "grid_auto_rows": null,
            "grid_gap": null,
            "max_width": null,
            "order": null,
            "_view_module_version": "1.2.0",
            "grid_template_areas": null,
            "object_position": null,
            "object_fit": null,
            "grid_auto_columns": null,
            "margin": null,
            "display": null,
            "left": null
          }
        },
        "1dc52bd35c2b41a7bb373378a6e3cdbf": {
          "model_module": "@jupyter-widgets/controls",
          "model_name": "FloatProgressModel",
          "state": {
            "_view_name": "ProgressView",
            "style": "IPY_MODEL_b7d329f722df4f589b8508f4d04dc481",
            "_dom_classes": [],
            "description": "100%",
            "_model_name": "FloatProgressModel",
            "bar_style": "",
            "max": 20,
            "_view_module": "@jupyter-widgets/controls",
            "_model_module_version": "1.5.0",
            "value": 20,
            "_view_count": null,
            "_view_module_version": "1.5.0",
            "orientation": "horizontal",
            "min": 0,
            "description_tooltip": null,
            "_model_module": "@jupyter-widgets/controls",
            "layout": "IPY_MODEL_2e672712544c48dcb4c2cef4684fe9c0"
          }
        },
        "00932fd791cf444c973ba01d87642120": {
          "model_module": "@jupyter-widgets/controls",
          "model_name": "HTMLModel",
          "state": {
            "_view_name": "HTMLView",
            "style": "IPY_MODEL_025bfde04acb48a3ae0327c2f999bd47",
            "_dom_classes": [],
            "description": "",
            "_model_name": "HTMLModel",
            "placeholder": "​",
            "_view_module": "@jupyter-widgets/controls",
            "_model_module_version": "1.5.0",
            "value": " 20/20 [01:02&lt;00:00,  2.34s/it]",
            "_view_count": null,
            "_view_module_version": "1.5.0",
            "description_tooltip": null,
            "_model_module": "@jupyter-widgets/controls",
            "layout": "IPY_MODEL_3fef80a2349342e0825101551e9a1faa"
          }
        },
        "b7d329f722df4f589b8508f4d04dc481": {
          "model_module": "@jupyter-widgets/controls",
          "model_name": "ProgressStyleModel",
          "state": {
            "_view_name": "StyleView",
            "_model_name": "ProgressStyleModel",
            "description_width": "initial",
            "_view_module": "@jupyter-widgets/base",
            "_model_module_version": "1.5.0",
            "_view_count": null,
            "_view_module_version": "1.2.0",
            "bar_color": null,
            "_model_module": "@jupyter-widgets/controls"
          }
        },
        "2e672712544c48dcb4c2cef4684fe9c0": {
          "model_module": "@jupyter-widgets/base",
          "model_name": "LayoutModel",
          "state": {
            "_view_name": "LayoutView",
            "grid_template_rows": null,
            "right": null,
            "justify_content": null,
            "_view_module": "@jupyter-widgets/base",
            "overflow": null,
            "_model_module_version": "1.2.0",
            "_view_count": null,
            "flex_flow": null,
            "width": null,
            "min_width": null,
            "border": null,
            "align_items": null,
            "bottom": null,
            "_model_module": "@jupyter-widgets/base",
            "top": null,
            "grid_column": null,
            "overflow_y": null,
            "overflow_x": null,
            "grid_auto_flow": null,
            "grid_area": null,
            "grid_template_columns": null,
            "flex": null,
            "_model_name": "LayoutModel",
            "justify_items": null,
            "grid_row": null,
            "max_height": null,
            "align_content": null,
            "visibility": null,
            "align_self": null,
            "height": null,
            "min_height": null,
            "padding": null,
            "grid_auto_rows": null,
            "grid_gap": null,
            "max_width": null,
            "order": null,
            "_view_module_version": "1.2.0",
            "grid_template_areas": null,
            "object_position": null,
            "object_fit": null,
            "grid_auto_columns": null,
            "margin": null,
            "display": null,
            "left": null
          }
        },
        "025bfde04acb48a3ae0327c2f999bd47": {
          "model_module": "@jupyter-widgets/controls",
          "model_name": "DescriptionStyleModel",
          "state": {
            "_view_name": "StyleView",
            "_model_name": "DescriptionStyleModel",
            "description_width": "",
            "_view_module": "@jupyter-widgets/base",
            "_model_module_version": "1.5.0",
            "_view_count": null,
            "_view_module_version": "1.2.0",
            "_model_module": "@jupyter-widgets/controls"
          }
        },
        "3fef80a2349342e0825101551e9a1faa": {
          "model_module": "@jupyter-widgets/base",
          "model_name": "LayoutModel",
          "state": {
            "_view_name": "LayoutView",
            "grid_template_rows": null,
            "right": null,
            "justify_content": null,
            "_view_module": "@jupyter-widgets/base",
            "overflow": null,
            "_model_module_version": "1.2.0",
            "_view_count": null,
            "flex_flow": null,
            "width": null,
            "min_width": null,
            "border": null,
            "align_items": null,
            "bottom": null,
            "_model_module": "@jupyter-widgets/base",
            "top": null,
            "grid_column": null,
            "overflow_y": null,
            "overflow_x": null,
            "grid_auto_flow": null,
            "grid_area": null,
            "grid_template_columns": null,
            "flex": null,
            "_model_name": "LayoutModel",
            "justify_items": null,
            "grid_row": null,
            "max_height": null,
            "align_content": null,
            "visibility": null,
            "align_self": null,
            "height": null,
            "min_height": null,
            "padding": null,
            "grid_auto_rows": null,
            "grid_gap": null,
            "max_width": null,
            "order": null,
            "_view_module_version": "1.2.0",
            "grid_template_areas": null,
            "object_position": null,
            "object_fit": null,
            "grid_auto_columns": null,
            "margin": null,
            "display": null,
            "left": null
          }
        },
        "8b2cb3262b40422a8f354b663ee03011": {
          "model_module": "@jupyter-widgets/controls",
          "model_name": "HBoxModel",
          "state": {
            "_view_name": "HBoxView",
            "_dom_classes": [],
            "_model_name": "HBoxModel",
            "_view_module": "@jupyter-widgets/controls",
            "_model_module_version": "1.5.0",
            "_view_count": null,
            "_view_module_version": "1.5.0",
            "box_style": "",
            "layout": "IPY_MODEL_cbf7be729687471bad76531a4c68b2d2",
            "_model_module": "@jupyter-widgets/controls",
            "children": [
              "IPY_MODEL_61e8a8099d2e4a01805a551574e05489",
              "IPY_MODEL_40835d35d3724971b01c043076844ce3"
            ]
          }
        },
        "cbf7be729687471bad76531a4c68b2d2": {
          "model_module": "@jupyter-widgets/base",
          "model_name": "LayoutModel",
          "state": {
            "_view_name": "LayoutView",
            "grid_template_rows": null,
            "right": null,
            "justify_content": null,
            "_view_module": "@jupyter-widgets/base",
            "overflow": null,
            "_model_module_version": "1.2.0",
            "_view_count": null,
            "flex_flow": null,
            "width": null,
            "min_width": null,
            "border": null,
            "align_items": null,
            "bottom": null,
            "_model_module": "@jupyter-widgets/base",
            "top": null,
            "grid_column": null,
            "overflow_y": null,
            "overflow_x": null,
            "grid_auto_flow": null,
            "grid_area": null,
            "grid_template_columns": null,
            "flex": null,
            "_model_name": "LayoutModel",
            "justify_items": null,
            "grid_row": null,
            "max_height": null,
            "align_content": null,
            "visibility": null,
            "align_self": null,
            "height": null,
            "min_height": null,
            "padding": null,
            "grid_auto_rows": null,
            "grid_gap": null,
            "max_width": null,
            "order": null,
            "_view_module_version": "1.2.0",
            "grid_template_areas": null,
            "object_position": null,
            "object_fit": null,
            "grid_auto_columns": null,
            "margin": null,
            "display": null,
            "left": null
          }
        },
        "61e8a8099d2e4a01805a551574e05489": {
          "model_module": "@jupyter-widgets/controls",
          "model_name": "FloatProgressModel",
          "state": {
            "_view_name": "ProgressView",
            "style": "IPY_MODEL_9bd6b3e6410f46408317783ad32af23a",
            "_dom_classes": [],
            "description": "100%",
            "_model_name": "FloatProgressModel",
            "bar_style": "success",
            "max": 110,
            "_view_module": "@jupyter-widgets/controls",
            "_model_module_version": "1.5.0",
            "value": 110,
            "_view_count": null,
            "_view_module_version": "1.5.0",
            "orientation": "horizontal",
            "min": 0,
            "description_tooltip": null,
            "_model_module": "@jupyter-widgets/controls",
            "layout": "IPY_MODEL_9aa688e408254440bf496a2e9a381df1"
          }
        },
        "40835d35d3724971b01c043076844ce3": {
          "model_module": "@jupyter-widgets/controls",
          "model_name": "HTMLModel",
          "state": {
            "_view_name": "HTMLView",
            "style": "IPY_MODEL_c8e5328d518d4c23b160b28f28f1b365",
            "_dom_classes": [],
            "description": "",
            "_model_name": "HTMLModel",
            "placeholder": "​",
            "_view_module": "@jupyter-widgets/controls",
            "_model_module_version": "1.5.0",
            "value": " 110/110 [00:06&lt;00:00, 15.84it/s]",
            "_view_count": null,
            "_view_module_version": "1.5.0",
            "description_tooltip": null,
            "_model_module": "@jupyter-widgets/controls",
            "layout": "IPY_MODEL_d10ca47e2ade46e3aa6d025a153653a0"
          }
        },
        "9bd6b3e6410f46408317783ad32af23a": {
          "model_module": "@jupyter-widgets/controls",
          "model_name": "ProgressStyleModel",
          "state": {
            "_view_name": "StyleView",
            "_model_name": "ProgressStyleModel",
            "description_width": "initial",
            "_view_module": "@jupyter-widgets/base",
            "_model_module_version": "1.5.0",
            "_view_count": null,
            "_view_module_version": "1.2.0",
            "bar_color": null,
            "_model_module": "@jupyter-widgets/controls"
          }
        },
        "9aa688e408254440bf496a2e9a381df1": {
          "model_module": "@jupyter-widgets/base",
          "model_name": "LayoutModel",
          "state": {
            "_view_name": "LayoutView",
            "grid_template_rows": null,
            "right": null,
            "justify_content": null,
            "_view_module": "@jupyter-widgets/base",
            "overflow": null,
            "_model_module_version": "1.2.0",
            "_view_count": null,
            "flex_flow": null,
            "width": null,
            "min_width": null,
            "border": null,
            "align_items": null,
            "bottom": null,
            "_model_module": "@jupyter-widgets/base",
            "top": null,
            "grid_column": null,
            "overflow_y": null,
            "overflow_x": null,
            "grid_auto_flow": null,
            "grid_area": null,
            "grid_template_columns": null,
            "flex": null,
            "_model_name": "LayoutModel",
            "justify_items": null,
            "grid_row": null,
            "max_height": null,
            "align_content": null,
            "visibility": null,
            "align_self": null,
            "height": null,
            "min_height": null,
            "padding": null,
            "grid_auto_rows": null,
            "grid_gap": null,
            "max_width": null,
            "order": null,
            "_view_module_version": "1.2.0",
            "grid_template_areas": null,
            "object_position": null,
            "object_fit": null,
            "grid_auto_columns": null,
            "margin": null,
            "display": null,
            "left": null
          }
        },
        "c8e5328d518d4c23b160b28f28f1b365": {
          "model_module": "@jupyter-widgets/controls",
          "model_name": "DescriptionStyleModel",
          "state": {
            "_view_name": "StyleView",
            "_model_name": "DescriptionStyleModel",
            "description_width": "",
            "_view_module": "@jupyter-widgets/base",
            "_model_module_version": "1.5.0",
            "_view_count": null,
            "_view_module_version": "1.2.0",
            "_model_module": "@jupyter-widgets/controls"
          }
        },
        "d10ca47e2ade46e3aa6d025a153653a0": {
          "model_module": "@jupyter-widgets/base",
          "model_name": "LayoutModel",
          "state": {
            "_view_name": "LayoutView",
            "grid_template_rows": null,
            "right": null,
            "justify_content": null,
            "_view_module": "@jupyter-widgets/base",
            "overflow": null,
            "_model_module_version": "1.2.0",
            "_view_count": null,
            "flex_flow": null,
            "width": null,
            "min_width": null,
            "border": null,
            "align_items": null,
            "bottom": null,
            "_model_module": "@jupyter-widgets/base",
            "top": null,
            "grid_column": null,
            "overflow_y": null,
            "overflow_x": null,
            "grid_auto_flow": null,
            "grid_area": null,
            "grid_template_columns": null,
            "flex": null,
            "_model_name": "LayoutModel",
            "justify_items": null,
            "grid_row": null,
            "max_height": null,
            "align_content": null,
            "visibility": null,
            "align_self": null,
            "height": null,
            "min_height": null,
            "padding": null,
            "grid_auto_rows": null,
            "grid_gap": null,
            "max_width": null,
            "order": null,
            "_view_module_version": "1.2.0",
            "grid_template_areas": null,
            "object_position": null,
            "object_fit": null,
            "grid_auto_columns": null,
            "margin": null,
            "display": null,
            "left": null
          }
        }
      }
    }
  },
  "cells": [
    {
      "cell_type": "code",
      "metadata": {
        "colab": {
          "base_uri": "https://localhost:8080/"
        },
        "id": "lMopPXgpzST3",
        "outputId": "4083fd8c-6df0-4062-cf0f-e086fbd8ce5b"
      },
      "source": [
        "!rm -rf model_discovery\n",
        "!rm -rf data\n",
        "import gdown\n",
        "# download source code\n",
        "gdown.download('https://drive.google.com/uc?id=1exw9vOYcb0fPVseleifK0m1VxbBCsBM_', output=None, quiet=False)\n",
        "# download data\n",
        "gdown.download('https://drive.google.com/uc?id=1ozrvNU128WOGWDVhhDKtZENzBMuO-w4i', output=None, quiet=False)\n",
        "\n",
        "!unzip -qq data.zip\n",
        "!unzip -qq model_discovery.zip"
      ],
      "execution_count": 1,
      "outputs": [
        {
          "output_type": "stream",
          "text": [
            "Downloading...\n",
            "From: https://drive.google.com/uc?id=1exw9vOYcb0fPVseleifK0m1VxbBCsBM_\n",
            "To: /content/model_discovery.zip\n",
            "100%|██████████| 11.9k/11.9k [00:00<00:00, 9.47MB/s]\n",
            "Downloading...\n",
            "From: https://drive.google.com/uc?id=1ozrvNU128WOGWDVhhDKtZENzBMuO-w4i\n",
            "To: /content/data.zip\n",
            "22.5MB [00:00, 142MB/s] \n"
          ],
          "name": "stderr"
        }
      ]
    },
    {
      "cell_type": "code",
      "metadata": {
        "id": "kcPBkYFUvKsT",
        "colab": {
          "base_uri": "https://localhost:8080/"
        },
        "outputId": "177e243b-d91a-4ad9-c2ba-91457de8e491"
      },
      "source": [
        "import itertools\n",
        "import numpy as np\n",
        "import os\n",
        "import pandas as pd\n",
        "from collections import Counter\n",
        "from importlib import reload\n",
        "from model_discovery import utils, l2lsh\n",
        "from tqdm.notebook import tqdm\n",
        "import nltk\n",
        "nltk.download('stopwords')"
      ],
      "execution_count": 5,
      "outputs": [
        {
          "output_type": "stream",
          "text": [
            "[nltk_data] Downloading package stopwords to /root/nltk_data...\n",
            "[nltk_data]   Unzipping corpora/stopwords.zip.\n"
          ],
          "name": "stdout"
        },
        {
          "output_type": "execute_result",
          "data": {
            "text/plain": [
              "True"
            ]
          },
          "metadata": {
            "tags": []
          },
          "execution_count": 5
        }
      ]
    },
    {
      "cell_type": "markdown",
      "metadata": {
        "id": "41ctt29BISlf"
      },
      "source": [
        "## Deepmatcher Part\n"
      ]
    },
    {
      "cell_type": "code",
      "metadata": {
        "id": "t7TaOqDlwDJV"
      },
      "source": [
        "DATA_DIR = 'data/deepmatcher'\n",
        "\n",
        "datasets = ['abt_buy_exp', 'dblp_acm_exp_data', 'dblp_scholar_exp_data',\n",
        "            'dirty_itunes_amazon_exp_data', 'walmart_amazon_exp_data']"
      ],
      "execution_count": 3,
      "outputs": []
    },
    {
      "cell_type": "code",
      "metadata": {
        "colab": {
          "base_uri": "https://localhost:8080/",
          "height": 17,
          "referenced_widgets": [
            "a5a6439197b047c5a8f99f407b58197b",
            "e1125116e1914d26a6979e412fb3211e",
            "1dc52bd35c2b41a7bb373378a6e3cdbf",
            "00932fd791cf444c973ba01d87642120",
            "b7d329f722df4f589b8508f4d04dc481",
            "2e672712544c48dcb4c2cef4684fe9c0",
            "025bfde04acb48a3ae0327c2f999bd47",
            "3fef80a2349342e0825101551e9a1faa"
          ]
        },
        "id": "xaH6kLsxwswT",
        "outputId": "b8bc47a8-9dec-448f-d119-dffbb58e72c4"
      },
      "source": [
        "comb = list(itertools.permutations(datasets, 2))\n",
        "\n",
        "src_list = []\n",
        "tar_list = []\n",
        "jsd_list = []\n",
        "ada_list = []\n",
        "\n",
        "for src, tar in tqdm(comb, leave=False):\n",
        "    src_file_train = ''.join([src, '-train.csv'])\n",
        "    src_file_valid = ''.join([src, '-valid.csv'])\n",
        "    tar_file_valid = ''.join([tar, '-valid.csv'])\n",
        "\n",
        "    d1_path = os.path.join(DATA_DIR, src_file_train)\n",
        "    d2_path = os.path.join(DATA_DIR, tar_file_valid)\n",
        "\n",
        "    d1 = pd.read_csv(d1_path)\n",
        "    d2 = pd.read_csv(d2_path)\n",
        "\n",
        "    d1.drop(['id', 'label'], axis=1, inplace=True)\n",
        "    d2.drop(['id', 'label'], axis=1, inplace=True)\n",
        "\n",
        "    data1 = utils.flatten_df(d1)\n",
        "    word1 = utils.word_tokenize(data1)\n",
        "    data2 = utils.flatten_df(d2)\n",
        "    word2 = utils.word_tokenize(data2)\n",
        "    \n",
        "    src_list.append(src)\n",
        "    tar_list.append(tar)\n",
        "    jsd_list.append(utils.jsd_for_word(word1, word2))\n",
        "    ada_list.append(utils.adaptivity_word(d1, d2, word1, word2, threshold=0.6))\n"
      ],
      "execution_count": 6,
      "outputs": [
        {
          "output_type": "display_data",
          "data": {
            "application/vnd.jupyter.widget-view+json": {
              "model_id": "a5a6439197b047c5a8f99f407b58197b",
              "version_minor": 0,
              "version_major": 2
            },
            "text/plain": [
              "HBox(children=(FloatProgress(value=0.0, max=20.0), HTML(value='')))"
            ]
          },
          "metadata": {
            "tags": []
          }
        }
      ]
    },
    {
      "cell_type": "code",
      "metadata": {
        "id": "HZyrxoKXyr-6"
      },
      "source": [
        "result_df = pd.DataFrame({'Source 1': src_list, 'Source 2': tar_list, 'JSD': jsd_list, 'Adaptivity': ada_list})"
      ],
      "execution_count": 7,
      "outputs": []
    },
    {
      "cell_type": "code",
      "metadata": {
        "colab": {
          "base_uri": "https://localhost:8080/",
          "height": 662
        },
        "id": "gAInsatgytCy",
        "outputId": "7e68ff89-1945-4433-91eb-4f6f6545ef0f"
      },
      "source": [
        "result_df"
      ],
      "execution_count": 8,
      "outputs": [
        {
          "output_type": "execute_result",
          "data": {
            "text/html": [
              "<div>\n",
              "<style scoped>\n",
              "    .dataframe tbody tr th:only-of-type {\n",
              "        vertical-align: middle;\n",
              "    }\n",
              "\n",
              "    .dataframe tbody tr th {\n",
              "        vertical-align: top;\n",
              "    }\n",
              "\n",
              "    .dataframe thead th {\n",
              "        text-align: right;\n",
              "    }\n",
              "</style>\n",
              "<table border=\"1\" class=\"dataframe\">\n",
              "  <thead>\n",
              "    <tr style=\"text-align: right;\">\n",
              "      <th></th>\n",
              "      <th>Source 1</th>\n",
              "      <th>Source 2</th>\n",
              "      <th>JSD</th>\n",
              "      <th>Adaptivity</th>\n",
              "    </tr>\n",
              "  </thead>\n",
              "  <tbody>\n",
              "    <tr>\n",
              "      <th>0</th>\n",
              "      <td>abt_buy_exp</td>\n",
              "      <td>dblp_acm_exp_data</td>\n",
              "      <td>0.584039</td>\n",
              "      <td>20.0</td>\n",
              "    </tr>\n",
              "    <tr>\n",
              "      <th>1</th>\n",
              "      <td>abt_buy_exp</td>\n",
              "      <td>dblp_scholar_exp_data</td>\n",
              "      <td>0.573541</td>\n",
              "      <td>20.0</td>\n",
              "    </tr>\n",
              "    <tr>\n",
              "      <th>2</th>\n",
              "      <td>abt_buy_exp</td>\n",
              "      <td>dirty_itunes_amazon_exp_data</td>\n",
              "      <td>0.465671</td>\n",
              "      <td>20.0</td>\n",
              "    </tr>\n",
              "    <tr>\n",
              "      <th>3</th>\n",
              "      <td>abt_buy_exp</td>\n",
              "      <td>walmart_amazon_exp_data</td>\n",
              "      <td>0.269325</td>\n",
              "      <td>20.0</td>\n",
              "    </tr>\n",
              "    <tr>\n",
              "      <th>4</th>\n",
              "      <td>dblp_acm_exp_data</td>\n",
              "      <td>abt_buy_exp</td>\n",
              "      <td>0.601097</td>\n",
              "      <td>25.0</td>\n",
              "    </tr>\n",
              "    <tr>\n",
              "      <th>5</th>\n",
              "      <td>dblp_acm_exp_data</td>\n",
              "      <td>dblp_scholar_exp_data</td>\n",
              "      <td>0.071087</td>\n",
              "      <td>25.0</td>\n",
              "    </tr>\n",
              "    <tr>\n",
              "      <th>6</th>\n",
              "      <td>dblp_acm_exp_data</td>\n",
              "      <td>dirty_itunes_amazon_exp_data</td>\n",
              "      <td>0.564749</td>\n",
              "      <td>25.0</td>\n",
              "    </tr>\n",
              "    <tr>\n",
              "      <th>7</th>\n",
              "      <td>dblp_acm_exp_data</td>\n",
              "      <td>walmart_amazon_exp_data</td>\n",
              "      <td>0.624247</td>\n",
              "      <td>25.0</td>\n",
              "    </tr>\n",
              "    <tr>\n",
              "      <th>8</th>\n",
              "      <td>dblp_scholar_exp_data</td>\n",
              "      <td>abt_buy_exp</td>\n",
              "      <td>0.572959</td>\n",
              "      <td>58.0</td>\n",
              "    </tr>\n",
              "    <tr>\n",
              "      <th>9</th>\n",
              "      <td>dblp_scholar_exp_data</td>\n",
              "      <td>dblp_acm_exp_data</td>\n",
              "      <td>0.050957</td>\n",
              "      <td>58.0</td>\n",
              "    </tr>\n",
              "    <tr>\n",
              "      <th>10</th>\n",
              "      <td>dblp_scholar_exp_data</td>\n",
              "      <td>dirty_itunes_amazon_exp_data</td>\n",
              "      <td>0.492585</td>\n",
              "      <td>58.0</td>\n",
              "    </tr>\n",
              "    <tr>\n",
              "      <th>11</th>\n",
              "      <td>dblp_scholar_exp_data</td>\n",
              "      <td>walmart_amazon_exp_data</td>\n",
              "      <td>0.583346</td>\n",
              "      <td>58.0</td>\n",
              "    </tr>\n",
              "    <tr>\n",
              "      <th>12</th>\n",
              "      <td>dirty_itunes_amazon_exp_data</td>\n",
              "      <td>abt_buy_exp</td>\n",
              "      <td>0.527596</td>\n",
              "      <td>2.0</td>\n",
              "    </tr>\n",
              "    <tr>\n",
              "      <th>13</th>\n",
              "      <td>dirty_itunes_amazon_exp_data</td>\n",
              "      <td>dblp_acm_exp_data</td>\n",
              "      <td>0.614110</td>\n",
              "      <td>2.0</td>\n",
              "    </tr>\n",
              "    <tr>\n",
              "      <th>14</th>\n",
              "      <td>dirty_itunes_amazon_exp_data</td>\n",
              "      <td>dblp_scholar_exp_data</td>\n",
              "      <td>0.604600</td>\n",
              "      <td>2.0</td>\n",
              "    </tr>\n",
              "    <tr>\n",
              "      <th>15</th>\n",
              "      <td>dirty_itunes_amazon_exp_data</td>\n",
              "      <td>walmart_amazon_exp_data</td>\n",
              "      <td>0.530912</td>\n",
              "      <td>2.0</td>\n",
              "    </tr>\n",
              "    <tr>\n",
              "      <th>16</th>\n",
              "      <td>walmart_amazon_exp_data</td>\n",
              "      <td>abt_buy_exp</td>\n",
              "      <td>0.293620</td>\n",
              "      <td>21.0</td>\n",
              "    </tr>\n",
              "    <tr>\n",
              "      <th>17</th>\n",
              "      <td>walmart_amazon_exp_data</td>\n",
              "      <td>dblp_acm_exp_data</td>\n",
              "      <td>0.620398</td>\n",
              "      <td>15.0</td>\n",
              "    </tr>\n",
              "    <tr>\n",
              "      <th>18</th>\n",
              "      <td>walmart_amazon_exp_data</td>\n",
              "      <td>dblp_scholar_exp_data</td>\n",
              "      <td>0.594420</td>\n",
              "      <td>21.0</td>\n",
              "    </tr>\n",
              "    <tr>\n",
              "      <th>19</th>\n",
              "      <td>walmart_amazon_exp_data</td>\n",
              "      <td>dirty_itunes_amazon_exp_data</td>\n",
              "      <td>0.471196</td>\n",
              "      <td>21.0</td>\n",
              "    </tr>\n",
              "  </tbody>\n",
              "</table>\n",
              "</div>"
            ],
            "text/plain": [
              "                        Source 1  ... Adaptivity\n",
              "0                    abt_buy_exp  ...       20.0\n",
              "1                    abt_buy_exp  ...       20.0\n",
              "2                    abt_buy_exp  ...       20.0\n",
              "3                    abt_buy_exp  ...       20.0\n",
              "4              dblp_acm_exp_data  ...       25.0\n",
              "5              dblp_acm_exp_data  ...       25.0\n",
              "6              dblp_acm_exp_data  ...       25.0\n",
              "7              dblp_acm_exp_data  ...       25.0\n",
              "8          dblp_scholar_exp_data  ...       58.0\n",
              "9          dblp_scholar_exp_data  ...       58.0\n",
              "10         dblp_scholar_exp_data  ...       58.0\n",
              "11         dblp_scholar_exp_data  ...       58.0\n",
              "12  dirty_itunes_amazon_exp_data  ...        2.0\n",
              "13  dirty_itunes_amazon_exp_data  ...        2.0\n",
              "14  dirty_itunes_amazon_exp_data  ...        2.0\n",
              "15  dirty_itunes_amazon_exp_data  ...        2.0\n",
              "16       walmart_amazon_exp_data  ...       21.0\n",
              "17       walmart_amazon_exp_data  ...       15.0\n",
              "18       walmart_amazon_exp_data  ...       21.0\n",
              "19       walmart_amazon_exp_data  ...       21.0\n",
              "\n",
              "[20 rows x 4 columns]"
            ]
          },
          "metadata": {
            "tags": []
          },
          "execution_count": 8
        }
      ]
    },
    {
      "cell_type": "markdown",
      "metadata": {
        "id": "9ErOfQcqInlS"
      },
      "source": [
        "## Magellan part"
      ]
    },
    {
      "cell_type": "code",
      "metadata": {
        "id": "u53CE-9HJYy1"
      },
      "source": [
        "DATA_DIR = 'data/magellan'"
      ],
      "execution_count": 9,
      "outputs": []
    },
    {
      "cell_type": "code",
      "metadata": {
        "colab": {
          "base_uri": "https://localhost:8080/",
          "height": 101,
          "referenced_widgets": [
            "8b2cb3262b40422a8f354b663ee03011",
            "cbf7be729687471bad76531a4c68b2d2",
            "61e8a8099d2e4a01805a551574e05489",
            "40835d35d3724971b01c043076844ce3",
            "9bd6b3e6410f46408317783ad32af23a",
            "9aa688e408254440bf496a2e9a381df1",
            "c8e5328d518d4c23b160b28f28f1b365",
            "d10ca47e2ade46e3aa6d025a153653a0"
          ]
        },
        "id": "bOqm6iYHIpS-",
        "outputId": "fd2a6111-57bd-4189-ff48-b730dc251d4b"
      },
      "source": [
        "datasets = ['Anime', 'Bikes', 'Books1', 'Books2', 'Books3', 'Restaurants4',\n",
        "      'Movies1','Movies2','Movies3','Movies4','Movies5']\n",
        "\n",
        "comb = list(itertools.permutations(datasets, 2))\n",
        "\n",
        "src_list = []\n",
        "tar_list = []\n",
        "jsd_list = []\n",
        "ada_list = []\n",
        "l2d_list = []\n",
        "\n",
        "\n",
        "for src, tar in tqdm(comb):\n",
        "    src_file_train = ''.join([src, '.csv'])\n",
        "    tar_file_valid = ''.join([tar, '.csv'])\n",
        "\n",
        "    d1_path = os.path.join(DATA_DIR, src_file_train)\n",
        "    d2_path = os.path.join(DATA_DIR, tar_file_valid)\n",
        "\n",
        "    d1 = pd.read_csv(d1_path)\n",
        "    d2 = pd.read_csv(d2_path)\n",
        "\n",
        "    d1.drop(['id','label'], axis=1, inplace=True)\n",
        "    d2.drop(['id','label'], axis=1, inplace=True)\n",
        "    \n",
        "    data1 = utils.flatten_df(d1)\n",
        "    word1 = utils.word_tokenize(data1)\n",
        "    data2 = utils.flatten_df(d2)\n",
        "    word2 = utils.word_tokenize(data2)\n",
        "    \n",
        "    src_list.append(src)\n",
        "    tar_list.append(tar)\n",
        "    jsd_list.append(utils.jsd_for_word(word1, word2))\n",
        "    ada_list.append(utils.adaptivity_word(d1, d2, word1, word2, threshold=0.7, partition_size=90))\n",
        "    l2d_list.append(utils.l2d_btw_domains(word1, word2))"
      ],
      "execution_count": 10,
      "outputs": [
        {
          "output_type": "display_data",
          "data": {
            "application/vnd.jupyter.widget-view+json": {
              "model_id": "8b2cb3262b40422a8f354b663ee03011",
              "version_minor": 0,
              "version_major": 2
            },
            "text/plain": [
              "HBox(children=(FloatProgress(value=0.0, max=110.0), HTML(value='')))"
            ]
          },
          "metadata": {
            "tags": []
          }
        },
        {
          "output_type": "stream",
          "text": [
            "/content/model_discovery/utils.py:356: RuntimeWarning: invalid value encountered in true_divide\n",
            "  prob1 = prob1 / np.sum(prob1)\n"
          ],
          "name": "stderr"
        },
        {
          "output_type": "stream",
          "text": [
            "\n"
          ],
          "name": "stdout"
        }
      ]
    },
    {
      "cell_type": "code",
      "metadata": {
        "id": "uSnEkEwiMM2M"
      },
      "source": [
        "result = pd.DataFrame({'Source 1': src_list, 'Source 2': tar_list, 'JSD': jsd_list, 'Adaptivity': ada_list,\n",
        "                         'L2D': l2d_list})"
      ],
      "execution_count": 11,
      "outputs": []
    },
    {
      "cell_type": "code",
      "metadata": {
        "colab": {
          "base_uri": "https://localhost:8080/",
          "height": 415
        },
        "id": "I9nKqotoLnXm",
        "outputId": "15c70cfe-1283-4698-c42c-1cb11ff49a27"
      },
      "source": [
        "result"
      ],
      "execution_count": 12,
      "outputs": [
        {
          "output_type": "execute_result",
          "data": {
            "text/html": [
              "<div>\n",
              "<style scoped>\n",
              "    .dataframe tbody tr th:only-of-type {\n",
              "        vertical-align: middle;\n",
              "    }\n",
              "\n",
              "    .dataframe tbody tr th {\n",
              "        vertical-align: top;\n",
              "    }\n",
              "\n",
              "    .dataframe thead th {\n",
              "        text-align: right;\n",
              "    }\n",
              "</style>\n",
              "<table border=\"1\" class=\"dataframe\">\n",
              "  <thead>\n",
              "    <tr style=\"text-align: right;\">\n",
              "      <th></th>\n",
              "      <th>Source 1</th>\n",
              "      <th>Source 2</th>\n",
              "      <th>JSD</th>\n",
              "      <th>Adaptivity</th>\n",
              "      <th>L2D</th>\n",
              "    </tr>\n",
              "  </thead>\n",
              "  <tbody>\n",
              "    <tr>\n",
              "      <th>0</th>\n",
              "      <td>Anime</td>\n",
              "      <td>Bikes</td>\n",
              "      <td>0.670891</td>\n",
              "      <td>5.0</td>\n",
              "      <td>0.258389</td>\n",
              "    </tr>\n",
              "    <tr>\n",
              "      <th>1</th>\n",
              "      <td>Anime</td>\n",
              "      <td>Books1</td>\n",
              "      <td>0.654520</td>\n",
              "      <td>5.0</td>\n",
              "      <td>0.232731</td>\n",
              "    </tr>\n",
              "    <tr>\n",
              "      <th>2</th>\n",
              "      <td>Anime</td>\n",
              "      <td>Books2</td>\n",
              "      <td>0.623253</td>\n",
              "      <td>5.0</td>\n",
              "      <td>0.341144</td>\n",
              "    </tr>\n",
              "    <tr>\n",
              "      <th>3</th>\n",
              "      <td>Anime</td>\n",
              "      <td>Books3</td>\n",
              "      <td>0.597067</td>\n",
              "      <td>5.0</td>\n",
              "      <td>0.234402</td>\n",
              "    </tr>\n",
              "    <tr>\n",
              "      <th>4</th>\n",
              "      <td>Anime</td>\n",
              "      <td>Restaurants4</td>\n",
              "      <td>0.674455</td>\n",
              "      <td>5.0</td>\n",
              "      <td>0.282821</td>\n",
              "    </tr>\n",
              "    <tr>\n",
              "      <th>...</th>\n",
              "      <td>...</td>\n",
              "      <td>...</td>\n",
              "      <td>...</td>\n",
              "      <td>...</td>\n",
              "      <td>...</td>\n",
              "    </tr>\n",
              "    <tr>\n",
              "      <th>105</th>\n",
              "      <td>Movies5</td>\n",
              "      <td>Restaurants4</td>\n",
              "      <td>0.628563</td>\n",
              "      <td>4.0</td>\n",
              "      <td>0.226536</td>\n",
              "    </tr>\n",
              "    <tr>\n",
              "      <th>106</th>\n",
              "      <td>Movies5</td>\n",
              "      <td>Movies1</td>\n",
              "      <td>0.280102</td>\n",
              "      <td>4.0</td>\n",
              "      <td>0.081562</td>\n",
              "    </tr>\n",
              "    <tr>\n",
              "      <th>107</th>\n",
              "      <td>Movies5</td>\n",
              "      <td>Movies2</td>\n",
              "      <td>0.333406</td>\n",
              "      <td>4.0</td>\n",
              "      <td>0.087357</td>\n",
              "    </tr>\n",
              "    <tr>\n",
              "      <th>108</th>\n",
              "      <td>Movies5</td>\n",
              "      <td>Movies3</td>\n",
              "      <td>0.364668</td>\n",
              "      <td>4.0</td>\n",
              "      <td>0.111434</td>\n",
              "    </tr>\n",
              "    <tr>\n",
              "      <th>109</th>\n",
              "      <td>Movies5</td>\n",
              "      <td>Movies4</td>\n",
              "      <td>0.339029</td>\n",
              "      <td>4.0</td>\n",
              "      <td>0.102443</td>\n",
              "    </tr>\n",
              "  </tbody>\n",
              "</table>\n",
              "<p>110 rows × 5 columns</p>\n",
              "</div>"
            ],
            "text/plain": [
              "    Source 1      Source 2       JSD  Adaptivity       L2D\n",
              "0      Anime         Bikes  0.670891         5.0  0.258389\n",
              "1      Anime        Books1  0.654520         5.0  0.232731\n",
              "2      Anime        Books2  0.623253         5.0  0.341144\n",
              "3      Anime        Books3  0.597067         5.0  0.234402\n",
              "4      Anime  Restaurants4  0.674455         5.0  0.282821\n",
              "..       ...           ...       ...         ...       ...\n",
              "105  Movies5  Restaurants4  0.628563         4.0  0.226536\n",
              "106  Movies5       Movies1  0.280102         4.0  0.081562\n",
              "107  Movies5       Movies2  0.333406         4.0  0.087357\n",
              "108  Movies5       Movies3  0.364668         4.0  0.111434\n",
              "109  Movies5       Movies4  0.339029         4.0  0.102443\n",
              "\n",
              "[110 rows x 5 columns]"
            ]
          },
          "metadata": {
            "tags": []
          },
          "execution_count": 12
        }
      ]
    },
    {
      "cell_type": "code",
      "metadata": {
        "id": "saA8cJ3aztJy"
      },
      "source": [
        ""
      ],
      "execution_count": null,
      "outputs": []
    }
  ]
}